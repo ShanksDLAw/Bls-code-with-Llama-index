{
 "cells": [
  {
   "cell_type": "code",
   "execution_count": null,
   "id": "08456a34",
   "metadata": {},
   "outputs": [],
   "source": [
    "import requests\n",
    "import json\n",
    "import prettytable\n",
    "import openai\n",
    "\n",
    "headers = {'Content-type': 'application/json'}\n",
    "data = json.dumps({\"seriesid\": ['CUUR0000SA0', 'SUUR0000SA0'], \"startyear\": \"2011\", \"endyear\": \"2014\"})\n",
    "p = requests.post('https://api.bls.gov/publicAPI/v2/timeseries/data/', data=data, headers=headers)\n",
    "json_data = json.loads(p.text)\n",
    "\n",
    "# Prompt the user for a query\n",
    "query = input(\"Enter your Question: \")\n",
    "\n",
    "# Prepare the data for the OpenAI GPT-3 model\n",
    "documents = []\n",
    "for series in json_data['Results']['series']:\n",
    "    seriesId = series['seriesID']\n",
    "    for item in series['data']:\n",
    "        year = item['year']\n",
    "        period = item['period']\n",
    "        value = item['value']\n",
    "        footnotes = \"\"\n",
    "        for footnote in item['footnotes']:\n",
    "            if footnote:\n",
    "                footnotes = footnotes + footnote['text'] + ','\n",
    "        if 'M01' <= period <= 'M12':\n",
    "            document = f\"{seriesId} {year} {period} {value} {footnotes}\"\n",
    "            documents.append(document)\n",
    "\n",
    "# Join the documents with new lines\n",
    "documents_text = \"\\n\".join(documents)\n",
    "\n",
    "# Set up the OpenAI API credentials\n",
    "openai.api_key = 'Your API key'\n",
    "\n",
    "# Use the OpenAI GPT-3 model to answer the query\n",
    "response = openai.Completion.create(\n",
    "    engine='text-davinci-003',\n",
    "    prompt=query,\n",
    "    max_tokens=50,\n",
    "    temperature=0.7,\n",
    "    n=1,\n",
    "    stop=None\n",
    ")\n",
    "\n",
    "# Print the answer\n",
    "print(response.choices[0].text)\n"
   ]
  },
  {
   "cell_type": "code",
   "execution_count": null,
   "id": "0789c786",
   "metadata": {},
   "outputs": [],
   "source": []
  },
  {
   "cell_type": "code",
   "execution_count": null,
   "id": "40a665eb",
   "metadata": {},
   "outputs": [],
   "source": []
  }
 ],
 "metadata": {
  "kernelspec": {
   "display_name": "Python 3 (ipykernel)",
   "language": "python",
   "name": "python3"
  },
  "language_info": {
   "codemirror_mode": {
    "name": "ipython",
    "version": 3
   },
   "file_extension": ".py",
   "mimetype": "text/x-python",
   "name": "python",
   "nbconvert_exporter": "python",
   "pygments_lexer": "ipython3",
   "version": "3.10.10"
  }
 },
 "nbformat": 4,
 "nbformat_minor": 5
}
